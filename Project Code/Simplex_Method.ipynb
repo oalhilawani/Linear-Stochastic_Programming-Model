{
  "nbformat": 4,
  "nbformat_minor": 0,
  "metadata": {
    "colab": {
      "provenance": []
    },
    "kernelspec": {
      "name": "python3",
      "display_name": "Python 3"
    },
    "language_info": {
      "name": "python"
    }
  },
  "cells": [
    {
      "cell_type": "code",
      "execution_count": 1,
      "metadata": {
        "id": "bTW0AC6CHXYz"
      },
      "outputs": [],
      "source": [
        "import numpy as np\n",
        "from itertools import count\n",
        "from scipy.optimize import linprog\n",
        "import time\n",
        "\n",
        "def generate_constraint_matrix(num_scenarios,percentage): #generates the constraint matrix which takes into account the number of scenarios and the percentage of each scenario.\n",
        "  constraint_matrices = [] #gets the value (from the function below) for the objective function and right hand side.\n",
        "  constraints = [] #constrain value\n",
        "  Slacks = [] #slack value\n",
        "  variables_count = 3 + 6*num_scenarios #number variabes generated per scenario. 6 variables added per scenario while only X1,X2,X3 (the first 3 variables) stay the same.\n",
        "  slacks_count = 1 + 4*num_scenarios #counts the amout of slacks that will be generated for every scenario. 1st contraint stays with the original scenario and only the next 4 constraints are repeated for every scenario\n",
        "  c = [0] * (variables_count + slacks_count)\n",
        "  b = [0] * (1 + 4*num_scenarios)\n",
        "\n",
        "  for i in range(num_scenarios): #Generate constraints for each scenario\n",
        "    for j in range(5):  # Number of constraints per scenario\n",
        "      row = [0] * variables_count\n",
        "      if i==0 and j == 0:\n",
        "        row[0] = 1  # Coefficients for X1 in the first constraint\n",
        "        row[1] = 1  # Coefficients for X2 in the first constraint\n",
        "        row[2] = 1  # Coefficients for X3 in the first constraint\n",
        "      elif i!=0 and j == 0:\n",
        "        continue  # Skip the first constraint for subsequent matrices\n",
        "      elif j == 1:\n",
        "        row[0] = 2.5 * (1+percentage*((num_scenarios-1)/2)-percentage*i)   # Coefficients for X1 in the second constraint\n",
        "        row[3+6*i] = 1  # Coefficients for X4 in the second constraint\n",
        "        row[5+6*i] = -1  # Coefficients for X6 in the second constraint\n",
        "      elif j == 2:\n",
        "        row[1] = 3 * (1+percentage*((num_scenarios-1)/2)-percentage*i)  # Coefficients for X2 in the third constraint\n",
        "        row[4+6*i] = 1  # Coefficients for X5 in the third constraint\n",
        "        row[6+6*i] = -1  # Coefficients for X7 in the third constraint\n",
        "      elif j == 3:\n",
        "        row[2] = -20 * (1+percentage*((num_scenarios-1)/2)-percentage*i)  # Coefficients for X3 in the fourth constraint\n",
        "        row[7+6*i] = 1  # Coefficients for X8 in the fourth constraint\n",
        "        row[8+6*i] = 1  # Coefficients for X9 in the fourth constraint\n",
        "      elif j == 4:\n",
        "        row[7+6*i] = 1  # Coefficients for X8 in the fifth constraint\n",
        "\n",
        "      constraints.append(row)\n",
        "\n",
        "  for i in range(num_scenarios):\n",
        "    # Generate constraints for each scenario\n",
        "    for j in range(5):  # Number of constraints per scenario\n",
        "      row = [0] * slacks_count\n",
        "      if i==0 and j == 0:\n",
        "        row[0] = 1  # Coefficients for s1 in the first constraint\n",
        "      elif i!=0 and j == 0:\n",
        "        continue  # Skip the first constraint for subsequent matrices\n",
        "      elif j == 1:\n",
        "        row[1+4*i] = -1  # Coefficients for s2 in the second constraint\n",
        "      elif j == 2:\n",
        "        row[2+4*i] = -1  # Coefficients for s3 in the third constraint\n",
        "      elif j == 3:\n",
        "        row[3+4*i] = 1  # Coefficients for s4 in the fourth constraint\n",
        "      elif j == 4:\n",
        "        row[4+4*i] = 1  # Coefficients for s5 in the fifth constraint\n",
        "\n",
        "      Slacks.append(row)\n",
        "\n",
        "  constraint_matrices = np.hstack((constraints,Slacks))# generates the matrix which consists of the objective function and Right hand side value\n",
        "\n",
        "  c[0] = 150\n",
        "  c[1] = 230\n",
        "  c[2] = 260\n",
        "  for i in range(num_scenarios):\n",
        "    c[3 + (i*6)] = 238 * (1/num_scenarios)\n",
        "    c[4 + (i*6)] = 210 * (1/num_scenarios)\n",
        "    c[5 + (i*6)] = -170 * (1/num_scenarios)\n",
        "    c[6 + (i*6)] = -150 * (1/num_scenarios)\n",
        "    c[7 + (i*6)] = -36 * (1/num_scenarios)\n",
        "    c[8 + (i*6)] = -10 * (1/num_scenarios)\n",
        "\n",
        "  b[0] = 500\n",
        "  for i in range(num_scenarios):\n",
        "    b[1 + (i*4)] = 200\n",
        "    b[2 + (i*4)] = 240\n",
        "    b[3 + (i*4)] = 0\n",
        "    b[4 + (i*4)] = 6000\n",
        "\n",
        "  b = np.array(b).reshape(-1,1)\n",
        "\n",
        "  return constraint_matrices, c, b"
      ]
    },
    {
      "cell_type": "code",
      "source": [
        "def generate_phase_one_lp_coefficients_from_constraints(A,b, c): #generates the matrix for the phase 1 of the simplex method.\n",
        "\n",
        "  num_constraints, num_variables = A.shape\n",
        "  x = np.ones((num_variables,1))\n",
        "  artificial_matrix = np.eye(num_constraints)\n",
        "  A_with_artificial = np.concatenate((A, artificial_matrix), axis=1)\n",
        "\n",
        "  c_new = np.zeros(num_variables + num_constraints)\n",
        "  c_new[:num_variables] = c\n",
        "  c_new[num_variables:] = 1000000  # Coefficients for artificial variables\n",
        "\n",
        "  coefficients = {\n",
        "    'A': A_with_artificial,\n",
        "    'b': b.reshape(-1,1),\n",
        "    'c': c_new.reshape(-1,1)}\n",
        "\n",
        "  return coefficients"
      ],
      "metadata": {
        "id": "E2kFLh_gfWT6"
      },
      "execution_count": 2,
      "outputs": []
    },
    {
      "cell_type": "code",
      "source": [
        "num_scenarios = 89 #user can change the number of scenarios they would like to generate\n",
        "percentage = 0.001 #user can chnage the percentage +/- for the number of scenarios generated.\n",
        "A_pre,c_pre,b_pre = generate_constraint_matrix(num_scenarios,percentage)"
      ],
      "metadata": {
        "id": "wzGluxtgiYe-"
      },
      "execution_count": 12,
      "outputs": []
    },
    {
      "cell_type": "code",
      "source": [
        "beginning = time.time() #starts generating the time for the duration of the simplex method.\n",
        "\n",
        "phase_one_coefficients = generate_phase_one_lp_coefficients_from_constraints(A_pre,b_pre,c_pre)\n",
        "\n",
        "A = phase_one_coefficients['A']\n",
        "b = phase_one_coefficients['b']\n",
        "c = phase_one_coefficients['c']\n",
        "\n",
        "normalX = A_pre.shape[1]\n",
        "variableX = A.shape[1]\n",
        "xB_Index = np.arange(normalX, variableX).reshape(1, variableX-normalX)\n",
        "xN_Index = np.arange(0, normalX).reshape(1, A_pre.shape[1])\n",
        "\n",
        "zero_X = np.zeros((A_pre.shape[1],1))\n",
        "X = np.vstack((zero_X,b))\n",
        "\n",
        "for i_count in count():\n",
        "  B = A[:, xB_Index].reshape(A.shape[0],A.shape[0])\n",
        "  cB = c[xB_Index, :].reshape(A.shape[0],1)\n",
        "  w = np.linalg.solve(B.T, cB)\n",
        "\n",
        "  reduced_cost_values = np.array([]) #generated the reduced cost values\n",
        "  for i_N in xN_Index:\n",
        "    cN_r = c[i_N,0]\n",
        "    N_r = A[:, i_N]\n",
        "    reduced_cost = cN_r - (w.T)@N_r\n",
        "    reduced_cost_values = np.append(reduced_cost_values, reduced_cost)\n",
        "\n",
        "  positive_r = 0 #if statement which exists the function if the reduced cost is greater than or = to 0. Otherwise continue running the code.\n",
        "  for i in reduced_cost_values:\n",
        "    if i >= 0:\n",
        "      positive_r = positive_r + 1\n",
        "  if positive_r == reduced_cost_values.shape[0]:\n",
        "    Optimal_X = X\n",
        "    Optimal_value = c.T @ X\n",
        "    break\n",
        "\n",
        "  for i_r, r in enumerate(reduced_cost_values):\n",
        "    if r < 0:\n",
        "      enter_variable = xN_Index[0,i_r]\n",
        "      break\n",
        "  xB_direction = np.linalg.solve(B, -A[:, enter_variable].reshape(A.shape[0],1))# This is the direction vector in which the new variable enters\n",
        "  e = np.array([])\n",
        "  for num in range(xN_Index.shape[1]):\n",
        "    if xN_Index[0,num] == enter_variable:\n",
        "      e = np.append(e,1)\n",
        "    else:\n",
        "      e = np.append(e,0)\n",
        "  direction = np.vstack((xB_direction, e.reshape(xN_Index.shape[1],1)))\n",
        "  total_index = np.hstack((xB_Index,xN_Index))\n",
        "  total_index_flat = total_index.flatten()\n",
        "  sorting_index = np.argsort(total_index_flat)\n",
        "  direction_sorted = direction[sorting_index]\n",
        "\n",
        "  a = np.array([])\n",
        "  a_index = np.array([])\n",
        "  for i_d,d_value in enumerate(direction):\n",
        "    if d_value < 0:\n",
        "      a = np.append(a, -1*X[xB_Index[0,i_d],0]/d_value)\n",
        "    else:\n",
        "      a = np.append(a, 100000) #A reference alpha of 100,000 was used to compare the alpha values\n",
        "\n",
        "  a_min = np.min(a)\n",
        "  exit_variable = total_index[0,np.where(a == a_min)[0][0]]\n",
        "  X_new = X + (a_min * direction_sorted)\n",
        "  X = X_new\n",
        "  xB_Index = np.append(xB_Index, enter_variable)\n",
        "  mask = (xB_Index != exit_variable)\n",
        "  xB_Index = xB_Index[mask]\n",
        "  xB_Index = np.sort(xB_Index).reshape(1,xB_Index.shape[0])\n",
        "\n",
        "  xN_Index = np.append(xN_Index, exit_variable)\n",
        "  mask = (xN_Index != enter_variable)\n",
        "  xN_Index = xN_Index[mask]\n",
        "  xN_Index = np.sort(xN_Index).reshape(1,xN_Index.shape[0])\n",
        "\n",
        "total_time = time.time() - beginning"
      ],
      "metadata": {
        "id": "4F3eVCgOg3ZW"
      },
      "execution_count": 13,
      "outputs": []
    },
    {
      "cell_type": "code",
      "source": [
        "Optimal_value"
      ],
      "metadata": {
        "colab": {
          "base_uri": "https://localhost:8080/"
        },
        "id": "PI254M9pllym",
        "outputId": "c5e73479-ebe8-4be1-c63a-f24359429fb0"
      },
      "execution_count": 14,
      "outputs": [
        {
          "output_type": "execute_result",
          "data": {
            "text/plain": [
              "array([[-116891.62214067]])"
            ]
          },
          "metadata": {},
          "execution_count": 14
        }
      ]
    },
    {
      "cell_type": "code",
      "source": [
        "total_time"
      ],
      "metadata": {
        "colab": {
          "base_uri": "https://localhost:8080/"
        },
        "id": "hfpAMwoEvUQA",
        "outputId": "32d01a75-44de-4810-9ece-523b902d194d"
      },
      "execution_count": 15,
      "outputs": [
        {
          "output_type": "execute_result",
          "data": {
            "text/plain": [
              "18.73349165916443"
            ]
          },
          "metadata": {},
          "execution_count": 15
        }
      ]
    },
    {
      "cell_type": "code",
      "source": [
        "beginning2 = time.time()\n",
        "result = linprog(c, A_eq = A, b_eq = b, method = 'simplex')\n",
        "total_time2 = time.time() - beginning2"
      ],
      "metadata": {
        "colab": {
          "base_uri": "https://localhost:8080/"
        },
        "id": "fcOnWdVFnj7J",
        "outputId": "b74040fd-b472-4e4f-9979-59747b7358e3"
      },
      "execution_count": 18,
      "outputs": [
        {
          "output_type": "stream",
          "name": "stderr",
          "text": [
            "<ipython-input-18-e02b04dcbabb>:2: DeprecationWarning: `method='simplex'` is deprecated and will be removed in SciPy 1.11.0. Please use one of the HiGHS solvers (e.g. `method='highs'`) in new code.\n",
            "  result = linprog(c, A_eq = A, b_eq = b, method = 'simplex')\n"
          ]
        }
      ]
    },
    {
      "cell_type": "code",
      "source": [
        "result.fun"
      ],
      "metadata": {
        "colab": {
          "base_uri": "https://localhost:8080/"
        },
        "id": "PwG3vJHEvhb7",
        "outputId": "4fc8dcb8-fdd3-4b33-d19f-b1193a7922c0"
      },
      "execution_count": 19,
      "outputs": [
        {
          "output_type": "execute_result",
          "data": {
            "text/plain": [
              "-116891.62214067456"
            ]
          },
          "metadata": {},
          "execution_count": 19
        }
      ]
    },
    {
      "cell_type": "code",
      "source": [
        "total_time2"
      ],
      "metadata": {
        "colab": {
          "base_uri": "https://localhost:8080/"
        },
        "id": "c2wI3M_TvnaH",
        "outputId": "a5221a34-ea10-4bd8-94ce-817b97d92df7"
      },
      "execution_count": 9,
      "outputs": [
        {
          "output_type": "execute_result",
          "data": {
            "text/plain": [
              "0.07688188552856445"
            ]
          },
          "metadata": {},
          "execution_count": 9
        }
      ]
    }
  ]
}