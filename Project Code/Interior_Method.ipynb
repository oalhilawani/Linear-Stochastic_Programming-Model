{
  "cells": [
    {
      "cell_type": "code",
      "execution_count": null,
      "metadata": {
        "id": "w6f7QrzV6dX3"
      },
      "outputs": [],
      "source": [
        "#Importing libraries\n",
        "import numpy as np\n",
        "from itertools import count\n",
        "from scipy.optimize import linprog #used to run the\n",
        "import time\n",
        "\n",
        "#Generating the constraint matrix for the number scenarios and the percentages\n",
        "def generate_constraint_matrix(num_scenarios,percentage):\n",
        "  #Initializing lists and counts\n",
        "  constraint_matrices = []\n",
        "  constraints = []\n",
        "  Slacks = []\n",
        "  variables_count = 3 + 6*num_scenarios\n",
        "  slacks_count = 1 + 4*num_scenarios\n",
        "  c = [0] * (variables_count + slacks_count)\n",
        "  b = [0] * (1 + 4*num_scenarios)\n",
        "\n",
        "#The code uses nested loops to generate the constraint matrices (constraints and Slacks), coefficient vector (c), and right-hand side vector (b).\n",
        "  for i in range(num_scenarios):\n",
        "    # Generate constraints for each scenario\n",
        "    for j in range(5):  # Number of constraints per scenario\n",
        "      row = [0] * variables_count\n",
        "      if i==0 and j == 0:\n",
        "        row[0] = 1  # Coefficients for X1 in the first constraint\n",
        "        row[1] = 1  # Coefficients for X2 in the first constraint\n",
        "        row[2] = 1  # Coefficients for X3 in the first constraint\n",
        "      elif i!=0 and j == 0:\n",
        "        continue  # Skip the first constraint for subsequent matrices\n",
        "      elif j == 1:\n",
        "        row[0] = 2.5 * (1+percentage*((num_scenarios-1)/2)-percentage*i)   # Coefficients for X1 in the second constraint\n",
        "        row[3+6*i] = 1  # Coefficients for X4 in the second constraint\n",
        "        row[5+6*i] = -1  # Coefficients for X6 in the second constraint\n",
        "      elif j == 2:\n",
        "        row[1] = 3 * (1+percentage*((num_scenarios-1)/2)-percentage*i)  # Coefficients for X2 in the third constraint\n",
        "        row[4+6*i] = 1  # Coefficients for X5 in the third constraint\n",
        "        row[6+6*i] = -1  # Coefficients for X7 in the third constraint\n",
        "      elif j == 3:\n",
        "        row[2] = -20 * (1+percentage*((num_scenarios-1)/2)-percentage*i)  # Coefficients for X3 in the fourth constraint\n",
        "        row[7+6*i] = 1  # Coefficients for X8 in the fourth constraint\n",
        "        row[8+6*i] = 1  # Coefficients for X9 in the fourth constraint\n",
        "      elif j == 4:\n",
        "        row[7+6*i] = 1  # Coefficients for X8 in the fifth constraint\n",
        "\n",
        "      constraints.append(row)\n",
        "\n",
        "  for i in range(num_scenarios):\n",
        "    # Generate constraints for each scenario\n",
        "    for j in range(5):  # Number of constraints per scenario\n",
        "      row = [0] * slacks_count\n",
        "      if i==0 and j == 0:\n",
        "        row[0] = 1  # Coefficients for s1 in the first constraint\n",
        "      elif i!=0 and j == 0:\n",
        "        continue  # Skip the first constraint for subsequent matrices\n",
        "      elif j == 1:\n",
        "        row[1+4*i] = -1  # Coefficients for s2 in the second constraint\n",
        "      elif j == 2:\n",
        "        row[2+4*i] = -1  # Coefficients for s3 in the third constraint\n",
        "      elif j == 3:\n",
        "        row[3+4*i] = 1  # Coefficients for s4 in the fourth constraint\n",
        "      elif j == 4:\n",
        "        row[4+4*i] = 1  # Coefficients for s5 in the fifth constraint\n",
        "\n",
        "      Slacks.append(row)\n",
        "\n",
        "#This section of code constructs the final constraint matrix by concatenating the constraints and slack variables horizontally.\n",
        "  constraint_matrices = np.hstack((constraints,Slacks))\n",
        "  #Defining the original unchanged variables\n",
        "  c[0] = 150\n",
        "  c[1] = 230\n",
        "  c[2] = 260\n",
        "\n",
        "  #The code uses nested loops to generate the coefficient vector (c).\n",
        "  for i in range(num_scenarios):\n",
        "    c[3 + (i*6)] = 238 * (1/num_scenarios)\n",
        "    c[4 + (i*6)] = 210 * (1/num_scenarios)\n",
        "    c[5 + (i*6)] = -170 * (1/num_scenarios)\n",
        "    c[6 + (i*6)] = -150 * (1/num_scenarios)\n",
        "    c[7 + (i*6)] = -36 * (1/num_scenarios)\n",
        "    c[8 + (i*6)] = -10 * (1/num_scenarios)\n",
        "\n",
        "  #The code uses nested loops to generate the right-hand side vector (b).\n",
        "  b[0] = 500\n",
        "  for i in range(num_scenarios):\n",
        "    b[1 + (i*4)] = 200\n",
        "    b[2 + (i*4)] = 240\n",
        "    b[3 + (i*4)] = 0\n",
        "    b[4 + (i*4)] = 6000\n",
        "#This code converts the b list to a NumPy array and reshapes it to a column vector.\n",
        "  b = np.array(b).reshape(-1,1)\n",
        "#This code returns the generated constraint matrices (constraint_matrices), objective function coefficients (c), and right-hand side vector (b).\n",
        "  return constraint_matrices, c, b"
      ]
    },
    {
      "cell_type": "code",
      "execution_count": null,
      "metadata": {
        "id": "F1jFGBtg6zaL"
      },
      "outputs": [],
      "source": [
        "#This code generates the coefficients for the phase 1 simplex method\n",
        "\n",
        "#\n",
        "def generate_phase_one_lp_coefficients_from_constraints(A,b, c):\n",
        "    #The code below determines the number of constraints (num_constraints) and the number of decision variables (num_variables) based on the shape of the A matrix.\n",
        "    num_constraints, num_variables = A.shape\n",
        "    #This code initializes a vector x of ones with a shape of (num_variables, 1).\n",
        "    x = np.ones((num_variables,1))\n",
        "    #Calculating the \"artificial_matrix\" by taking the identity matrix multiplied by the difference between the right-hand side vector b and the result of the matrix-vector multiplication A @ x.\n",
        "    artificial_matrix = np.eye(num_constraints) * (b - (A@x))\n",
        "    #Concatenates the original constraint matrix A and the artificial matrix horizontally to create a new matrix A_with_artificial.\n",
        "    A_with_artificial = np.concatenate((A, artificial_matrix), axis=1)\n",
        "    #It initializes a new coefficient vector c_new with zeros and a length of num_variables + num_constraints.\n",
        "    c_new = np.zeros(num_variables + num_constraints)\n",
        "    #It assigns the first num_variables elements of c_new with the values from the original coefficient vector c.\n",
        "    c_new[:num_variables] = c\n",
        "    #It assigns the remaining elements (corresponding to the artificial variables) in c_new with a large constant value (1,000,000 in this case).\n",
        "    c_new[num_variables:] = 1000000  # Coefficients for artificial variables\n",
        "\n",
        "    #Organizing the generated coefficients\n",
        "    coefficients = {\n",
        "        'A': A_with_artificial,\n",
        "        'b': b.reshape(-1,1),\n",
        "        'c': c_new.reshape(-1,1)}\n",
        "\n",
        "    return coefficients"
      ]
    },
    {
      "cell_type": "code",
      "execution_count": null,
      "metadata": {
        "id": "V_-l1yU461rp"
      },
      "outputs": [],
      "source": [
        "#Initializing the number of scenarios to percentage\n",
        "num_scenarios = 1\n",
        "percentage = 0.001\n",
        "e = 0.0001\n",
        "A_pre,c_pre,b_pre = generate_constraint_matrix(num_scenarios,percentage)"
      ]
    },
    {
      "cell_type": "code",
      "execution_count": null,
      "metadata": {
        "colab": {
          "background_save": true
        },
        "id": "wu4OX_Dd64pN"
      },
      "outputs": [],
      "source": [
        "beginning = time.time()\n",
        "phase_one_coefficients = generate_phase_one_lp_coefficients_from_constraints(A_pre,b_pre,c_pre)\n",
        "\n",
        "A = phase_one_coefficients['A']\n",
        "b = phase_one_coefficients['b']\n",
        "c = phase_one_coefficients['c']\n",
        "\n",
        "zero_X = np.zeros((A_pre.shape[1],1))\n",
        "x = np.ones((A.shape[1],1))\n",
        "\n",
        "for i_count in count():\n",
        "  X_k = np.diag(np.squeeze(x))\n",
        "  y = np.linalg.solve(X_k, x)\n",
        "\n",
        "  W_left = A @ (X_k @ X_k) @ A.T\n",
        "  W_right = A @ (X_k @ X_k) @ c\n",
        "  W_k = np.linalg.solve(W_left, W_right)\n",
        "  r_k = c - A.T @ W_k\n",
        "\n",
        "  gap = y.T @ X_k @ r_k\n",
        "\n",
        "  if abs(gap) <= e:\n",
        "    Optimal_X = x\n",
        "    Optimal_value = c.T @ x\n",
        "    break\n",
        "\n",
        "  direction = -X_k @ r_k\n",
        "  direction = direction.reshape(-1, 1)\n",
        "  alpha = np.array([])\n",
        "\n",
        "  for d in direction:\n",
        "    if d < 0:\n",
        "      a = 0.6\n",
        "      a = -(a / d)\n",
        "      alpha = np.append(alpha,a)\n",
        "\n",
        "  a_min = np.min(alpha)\n",
        "\n",
        "\n",
        "  x = x + a_min * (X_k @ direction)\n",
        "\n",
        "total_time = time.time() - beginning"
      ]
    },
    {
      "cell_type": "code",
      "execution_count": null,
      "metadata": {
        "colab": {
          "background_save": true,
          "base_uri": "https://localhost:8080/"
        },
        "id": "FPU7NYKh67Di",
        "outputId": "3e84d140-0220-4118-d8da-c92e3787d7af"
      },
      "outputs": [
        {
          "data": {
            "text/plain": [
              "array([[-112978.94217645]])"
            ]
          },
          "execution_count": 115,
          "metadata": {},
          "output_type": "execute_result"
        }
      ],
      "source": [
        "Optimal_value"
      ]
    },
    {
      "cell_type": "code",
      "execution_count": null,
      "metadata": {
        "colab": {
          "background_save": true,
          "base_uri": "https://localhost:8080/"
        },
        "id": "eNYEbXPZ69Gl",
        "outputId": "43f01eab-4b5a-476d-b3ac-9fb5a8ce1413"
      },
      "outputs": [
        {
          "data": {
            "text/plain": [
              "9294.201314687729"
            ]
          },
          "execution_count": 116,
          "metadata": {},
          "output_type": "execute_result"
        }
      ],
      "source": [
        "total_time"
      ]
    },
    {
      "cell_type": "code",
      "execution_count": null,
      "metadata": {
        "colab": {
          "base_uri": "https://localhost:8080/"
        },
        "id": "C1zaK5I94KkB",
        "outputId": "7bc5b6d8-f5b3-4790-d4b2-2caf56357870"
      },
      "outputs": [
        {
          "name": "stderr",
          "output_type": "stream",
          "text": [
            "<ipython-input-117-27cb5182994a>:2: DeprecationWarning: `method='interior-point'` is deprecated and will be removed in SciPy 1.11.0. Please use one of the HiGHS solvers (e.g. `method='highs'`) in new code.\n",
            "  result = linprog(c, A_eq = A, b_eq = b, method = 'interior-point')\n"
          ]
        }
      ],
      "source": [
        "beginning2 = time.time()\n",
        "result = linprog(c, A_eq = A, b_eq = b, method = 'interior-point')\n",
        "total_time2 = time.time() - beginning2"
      ]
    },
    {
      "cell_type": "code",
      "execution_count": null,
      "metadata": {
        "id": "RScTq8A-4O_z"
      },
      "outputs": [],
      "source": [
        "result.fun"
      ]
    },
    {
      "cell_type": "code",
      "execution_count": null,
      "metadata": {
        "id": "HAAcyrg_4Phb"
      },
      "outputs": [],
      "source": [
        "total_time2"
      ]
    }
  ],
  "metadata": {
    "colab": {
      "provenance": []
    },
    "kernelspec": {
      "display_name": "Python 3",
      "name": "python3"
    },
    "language_info": {
      "name": "python"
    }
  },
  "nbformat": 4,
  "nbformat_minor": 0
}